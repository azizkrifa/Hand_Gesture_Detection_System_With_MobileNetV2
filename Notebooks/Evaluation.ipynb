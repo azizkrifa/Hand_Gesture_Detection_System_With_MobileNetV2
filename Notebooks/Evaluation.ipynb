{
  "cells": [
    {
      "cell_type": "markdown",
      "id": "74299f3d",
      "metadata": {},
      "source": [
        "# 🖐️ Hand Gesture Detection System",
        "---"
      ]
    },
    {
      "cell_type": "markdown",
      "id": "3b9ff4b1",
      "metadata": {},
      "source": [
        "## 1. 📦 Import Necessary Libraries"
      ]
    },
    {
      "cell_type": "code",
      "execution_count": null,
      "id": "c8b1f122",
      "metadata": {},
      "outputs": [],
      "source": [
        "import nbimporter\n",
        "from Training import data_generator\n",
        "from Data_Preprocessing import DATA_DIR\n",
        "\n",
        "from sklearn.metrics import classification_report, confusion_matrix\n",
        "from tensorflow.keras.models import load_model\n",
        "\n",
        "import numpy as np\n",
        "import seaborn as sns\n",
        "import matplotlib.pyplot as plt\n",
        "import tensorflow as tf"
      ]
    },
    {
      "cell_type": "markdown",
      "id": "5b559d72",
      "metadata": {},
      "source": [
        "## 2. 🚀 Load Model & Evaluate"
      ]
    },
    {
      "cell_type": "code",
      "execution_count": null,
      "id": "58027297",
      "metadata": {},
      "outputs": [],
      "source": [
        "# Load the model\n",
        "model = load_model(f\"{DATA_DIR}/best_model.keras\")\n",
        "\n",
        "# Prepare test dataset\n",
        "test_dataset = data_generator(f\"{DATA_DIR}/test\") \\\n",
        "    .batch(4) \\\n",
        "    .prefetch(tf.data.AUTOTUNE)"
      ]
    },
    {
      "cell_type": "code",
      "execution_count": null,
      "id": "f97ff3e8",
      "metadata": {},
      "outputs": [],
      "source": [
        "# Evaluate\n",
        "loss, accuracy = model.evaluate(test_dataset)\n",
        "print(f\"Test Loss: {loss:.2f}\")\n",
        "print(f\"Test Accuracy: {accuracy:.2f}\")"
      ]
    },
    {
      "cell_type": "markdown",
      "id": "b35cb02a",
      "metadata": {},
      "source": [
        "## 3. 📊 Report & Confusion Matrix"
      ]
    },
    {
      "cell_type": "code",
      "execution_count": null,
      "id": "0b20f6ad",
      "metadata": {},
      "outputs": [],
      "source": [
        "# Get true labels and predictions\n",
        "Y_true = []\n",
        "for _, y_batch in test_dataset:\n",
        "    Y_true.extend(y_batch.numpy())\n",
        "\n",
        "Y_pred_probs = model.predict(test_dataset)\n",
        "Y_pred = np.argmax(Y_pred_probs, axis=1)\n",
        "\n",
        "# Get class labels\n",
        "class_labels = ['Left_Swipe', 'Right_Swipe', 'Stop', 'Thumbs_Down', 'Thumbs_Up']\n",
        "\n",
        "# Generate classification report\n",
        "report = classification_report(Y_true, Y_pred, target_names=class_labels)\n",
        "print(\"Classification Report:\")\n",
        "print(report)\n",
        "\n",
        "# Generate confusion matrix\n",
        "cm = confusion_matrix(Y_true, Y_pred)\n",
        "\n",
        "# Plot confusion matrix as heatmap\n",
        "plt.figure(figsize=(8, 6))\n",
        "sns.heatmap(cm, annot=True, fmt='d', cmap='Blues',\n",
        "            xticklabels=class_labels,\n",
        "            yticklabels=class_labels)\n",
        "\n",
        "plt.title('Confusion Matrix')\n",
        "plt.xlabel('Predicted Label')\n",
        "plt.ylabel('True Label')\n",
        "plt.tight_layout()\n",
        "plt.show()"
      ]
    }
  ],
  "metadata": {
  "kernelspec": {
   "display_name": "Python 3 (ipykernel)",
   "language": "python",
   "name": "python3"
  },
  "language_info": {
   "codemirror_mode": {
    "name": "ipython",
    "version": 3
   },
   "file_extension": ".py",
   "mimetype": "text/x-python",
   "name": "python",
   "nbconvert_exporter": "python",
   "pygments_lexer": "ipython3",
   "version": "3.9.7"
  }
 },
 "nbformat": 4,
 "nbformat_minor": 5
}
