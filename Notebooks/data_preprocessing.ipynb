{
 "cells": [
  {
   "cell_type": "markdown",
   "id": "header-1",
   "metadata": {},
   "source": [
    "# Hand Gesture Detection System\n",
    "---"
   ]
  },
  {
   "cell_type": "markdown",
   "id": "dataset-download",
   "metadata": {},
   "source": [
    "## 1. Import necessary libraries"
   ]
  },
  {
   "cell_type": "code",
   "execution_count": null,
   "id": "6834ac8f",
   "metadata": {},
   "outputs": [],
   "source": [
    "import kagglehub\n",
    "from google.colab import drive\n",
    "import shutil\n",
    "from pathlib import Path\n",
    "import pandas as pd\n",
    "import matplotlib.pyplot as plt\n",
    "import cv2\n",
    "import random\n",
    "import os\n",
    "from collections import Counter\n",
    "import seaborn as sns"
   ]
  },
  {
   "cell_type": "markdown",
   "id": "divider-1",
   "metadata": {},
   "source": [
    "---"
   ]
  },
  {
   "cell_type": "markdown",
   "id": "download-section",
   "metadata": {},
   "source": [
    "## 2. Download Dataset Files"
   ]
  },
  {
   "cell_type": "code",
   "execution_count": null,
   "id": "1e1824fc",
   "metadata": {},
   "outputs": [],
   "source": [
    "# Download the dataset from KaggleHub\n",
    "src_path = kagglehub.dataset_download(\"marusagar/hand-gesture-detection-system\")\n",
    "print(\"Path to dataset files:\", src_path)"
   ]
  },
  {
   "cell_type": "markdown",
   "id": "divider-2",
   "metadata": {},
   "source": [
    "---"
   ]
  },
  {
   "cell_type": "markdown",
   "id": "mount-drive",
   "metadata": {},
   "source": [
    "## 3. Mount Google Drive"
   ]
  },
  {
   "cell_type": "code",
   "execution_count": null,
   "id": "d94bfeaf",
   "metadata": {},
   "outputs": [],
   "source": [
    "# Mount Google Drive to access files\n",
    "drive.mount('/content/drive')"
   ]
  },
  {
   "cell_type": "markdown",
   "id": "divider-3",
   "metadata": {},
   "source": [
    "---"
   ]
  },
  {
   "cell_type": "markdown",
   "id": "data-directory",
   "metadata": {},
   "source": [
    "## 4. Set Data Directory"
   ]
  },
  {
   "cell_type": "code",
   "execution_count": null,
   "id": "cda6e6ef",
   "metadata": {},
   "outputs": [],
   "source": [
    "# Define the path to your dataset in Google Drive\n",
    "DATA_DIR = \"/content/drive/MyDrive/Datasets/hand-gesture-detection_dataset\""
   ]
  },
  {
   "cell_type": "markdown",
   "id": "divider-4",
   "metadata": {},
   "source": [
    "---"
   ]
  },
  {
   "cell_type": "markdown",
   "id": "data-organization",
   "metadata": {},
   "source": [
    "## 5. Data Organization Setup"
   ]
  },
  {
   "cell_type": "code",
   "execution_count": null,
   "id": "bc56ed60",
   "metadata": {},
   "outputs": [],
   "source": [
    "# Define source and target root paths\n",
    "source_root = Path(src_path)\n",
    "target_root = Path(DATA_DIR)\n",
    "\n",
    "# Read and rename CSV columns\n",
    "train_file = pd.read_csv(source_root / \"train.csv\")\n",
    "val_file = pd.read_csv(source_root / \"val.csv\")\n",
    "\n",
    "train_file.columns = ['Image Name']\n",
    "val_file.columns = ['Image Name']\n",
    "\n",
    "# Define class ID mapping\n",
    "classes = {\n",
    "    0: \"Left_Swipe_new\",\n",
    "    1: \"Right_Swipe_new\",\n",
    "    2: \"Stop_new\",\n",
    "    3: \"Thumbs_Down_new\",\n",
    "    4: \"Thumbs_Up_new\"\n",
    "}"
   ]
  }
 ],
 "metadata": {
  "kernelspec": {
   "display_name": "Python 3 (ipykernel)",
   "language": "python",
   "name": "python3"
  },
  "language_info": {
   "codemirror_mode": {
    "name": "ipython",
    "version": 3
   },
   "file_extension": ".py",
   "mimetype": "text/x-python",
   "name": "python",
   "nbconvert_exporter": "python",
   "pygments_lexer": "ipython3",
   "version": "3.9.18"
  }
 },
 "nbformat": 4,
 "nbformat_minor": 5
}
