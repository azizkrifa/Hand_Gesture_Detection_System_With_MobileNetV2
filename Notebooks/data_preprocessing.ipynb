{
  "cells": [
    {
      "cell_type": "markdown",
      "id": "header-1",
      "metadata": {},
      "source": [
        "# Hand Gesture Detection System\n",
        "---"
      ]
    },
    {
      "cell_type": "markdown",
      "id": "dataset-download",
      "metadata": {},
      "source": [
        "## 1. Import necessary libraries"
      ]
    },
    {
      "cell_type": "code",
      "execution_count": null,
      "id": "6834ac8f",
      "metadata": {},
      "outputs": [],
      "source": [
        "import kagglehub\n",
        "from google.colab import drive\n",
        "import shutil\n",
        "from pathlib import Path\n",
        "import pandas as pd\n",
        "import matplotlib.pyplot as plt\n",
        "import cv2\n",
        "import random\n",
        "import os\n",
        "from collections import Counter\n",
        "import seaborn as sns"
      ]
    },
    {
      "cell_type": "markdown",
      "id": "divider-1",
      "metadata": {},
      "source": ["---"]
    },
    {
      "cell_type": "markdown",
      "id": "download-section",
      "metadata": {},
      "source": [
        "## 2. Download Dataset Files"
      ]
    },
    {
      "cell_type": "code",
      "execution_count": null,
      "id": "1e1824fc",
      "metadata": {},
      "outputs": [],
      "source": [
        "# Download the dataset from KaggleHub\n",
        "src_path = kagglehub.dataset_download(\"marusagar/hand-gesture-detection-system\")\n",
        "print(\"Path to dataset files:\", src_path)"
      ]
    },
    {
      "cell_type": "markdown",
      "id": "divider-2",
      "metadata": {},
      "source": ["---"]
    },
    {
      "cell_type": "markdown",
      "id": "mount-drive",
      "metadata": {},
      "source": ["## 3. Mount Google Drive"]
    },
    {
      "cell_type": "code",
      "execution_count": null,
      "id": "d94bfeaf",
      "metadata": {},
      "outputs": [],
      "source": [
        "# Mount Google Drive to access files\n",
        "drive.mount('/content/drive')"
      ]
    },
    {
      "cell_type": "markdown",
      "id": "divider-3",
      "metadata": {},
      "source": ["---"]
    },
    {
      "cell_type": "markdown",
      "id": "data-directory",
      "metadata": {},
      "source": ["## 4. Set Data Directory"]
    },
    {
      "cell_type": "code",
      "execution_count": null,
      "id": "cda6e6ef",
      "metadata": {},
      "outputs": [],
      "source": [
        "# Define the path to your dataset in Google Drive\n",
        "DATA_DIR = \"/content/drive/MyDrive/Datasets/hand-gesture-detection_dataset\""
      ]
    },
    {
      "cell_type": "markdown",
      "id": "divider-4",
      "metadata": {},
      "source": ["---"]
    },
    {
      "cell_type": "markdown",
      "id": "data-organization",
      "metadata": {},
      "source": ["## 5. Data Organization Setup"]
    },
    {
      "cell_type": "code",
      "execution_count": null,
      "id": "bc56ed60",
      "metadata": {},
      "outputs": [],
      "source": [
        "# Define source and target root paths\n",
        "source_root = Path(src_path)\n",
        "target_root = Path(DATA_DIR)\n",
        "\n",
        "# Read and rename CSV columns\n",
        "train_file = pd.read_csv(source_root / \"train.csv\")\n",
        "val_file = pd.read_csv(source_root / \"val.csv\")\n",
        "\n",
        "train_file.columns = ['Image Name']\n",
        "val_file.columns = ['Image Name']\n",
        "\n",
        "# Define class ID mapping\n",
        "classes = {\n",
        "    0: \"Left_Swipe_new\",\n",
        "    1: \"Right_Swipe_new\",\n",
        "    2: \"Stop_new\",\n",
        "    3: \"Thumbs_Down_new\",\n",
        "    4: \"Thumbs_Up_new\"\n",
        "}"
      ]
    },
    {
      "cell_type": "markdown",
      "id": "divider-5",
      "metadata": {},
      "source": ["---"]
    },
    {
      "cell_type": "markdown",
      "id": "organize-data",
      "metadata": {},
      "source": ["## 6. Organize Data Function"]
    },
    {
      "cell_type": "code",
      "execution_count": null,
      "id": "organize-function",
      "metadata": {},
      "outputs": [],
      "source": [
        "def organize_data(csv_file, src_folder_name, target_subfolder):\n",
        "    # Ensure target class folders exist\n",
        "    for class_name in classes.values():\n",
        "        (target_root / target_subfolder / class_name[:-4]).mkdir(parents=True, exist_ok=True)\n",
        "\n",
        "    for _, row in csv_file.iterrows():\n",
        "        folder_name = row['Image Name'][:row['Image Name'].find(\";\")]\n",
        "        class_id = row['Image Name'][-1]\n",
        "        class_name = classes[int(class_id)][:-4]\n",
        "\n",
        "        src_folder = source_root / src_folder_name / src_folder_name / folder_name\n",
        "        dest_folder = target_root / target_subfolder / class_name / folder_name\n",
        "\n",
        "        if src_folder.exists():\n",
        "            shutil.copytree(src_folder, dest_folder)\n",
        "            print(f\"Copied {folder_name} to {target_subfolder}/{class_name}\")\n",
        "        else:\n",
        "            print(f\"Folder {folder_name} not found in {src_folder_name}\")"
      ]
    },
    {
      "cell_type": "markdown",
      "id": "divider-6",
      "metadata": {},
      "source": ["---"]
    },
    {
      "cell_type": "markdown",
      "id": "run-organization",
      "metadata": {},
      "source": ["## 7. Run Data Organization"]
    },
    {
      "cell_type": "code",
      "execution_count": null,
      "id": "96b5a4c2",
      "metadata": {},
      "outputs": [],
      "source": [
        "# Organize training data\n",
        "organize_data(train_file, \"train\", \"train\")\n",
        "\n",
        "# Organize validation data\n",
        "organize_data(val_file, \"val\", \"val\")"
      ]
    },
    {
      "cell_type": "markdown",
      "id": "divider-7",
      "metadata": {},
      "source": ["---"]
    },
    {
      "cell_type": "markdown",
      "id": "test-split",
      "metadata": {},
      "source": ["## 8. Create Test Split"]
    },
    {
      "cell_type": "code",
      "execution_count": null,
      "id": "4039346c",
      "metadata": {},
      "outputs": [],
      "source": [
        "# Define paths\n",
        "train_dir = Path(f\"{DATA_DIR}/train\")\n",
        "test_dir = Path(f\"{DATA_DIR}/test\")\n",
        "\n",
        "# Ensure test directory exists\n",
        "test_dir.mkdir(parents=True, exist_ok=True)\n",
        "\n",
        "# Move 4 samples from each class in train to test\n",
        "for class_folder in train_dir.iterdir():\n",
        "    if class_folder.is_dir():\n",
        "        target_class_folder = test_dir / class_folder.name\n",
        "        target_class_folder.mkdir(parents=True, exist_ok=True)\n",
        "\n",
        "        samples = [f for f in class_folder.iterdir() if f.is_dir()]\n",
        "        samples_to_move = samples[:4]\n",
        "\n",
        "        for sample_folder in samples_to_move:\n",
        "            dest = target_class_folder / sample_folder.name\n",
        "            shutil.move(sample_folder, dest)\n",
        "            print(f\"Moved {sample_folder.name} to test/{class_folder.name}\")"
      ]
    },
    {
      "cell_type": "markdown",
      "id": "divider-8",
      "metadata": {},
      "source": ["---"]
    },
    {
      "cell_type": "markdown",
      "id": "data-distribution",
      "metadata": {},
      "source": ["## 9. Visualize Class Distribution"]
    },
    {
      "cell_type": "code",
      "execution_count": null,
      "id": "d902c363",
      "metadata": {},
      "outputs": [],
      "source": [
        "# Count number of samples per class\n",
        "train_path = f\"{DATA_DIR}/train\"\n",
        "train_counts = Counter([\n",
        "    label for folder in os.listdir(train_path)\n",
        "    if os.path.isdir(os.path.join(train_path, folder))\n",
        "    for label in [folder] * len(os.listdir(os.path.join(train_path, folder)))\n",
        "])\n",
        "\n",
        "# Create DataFrame from counts\n",
        "df = pd.DataFrame(train_counts.items(), columns=['Class', 'Count'])\n",
        "df = df.sort_values(by='Count', ascending=False)\n",
        "\n",
        "# Plot bar chart\n",
        "plt.figure(figsize=(9, 5))\n",
        "ax = sns.barplot(data=df, x='Class', y='Count', palette='viridis')\n",
        "plt.title('Sample Count per Class – Train Set')\n",
        "\n",
        "# Add count labels\n",
        "for p in ax.patches:\n",
        "    height = p.get_height()\n",
        "    ax.text(\n",
        "        p.get_x() + p.get_width() / 2,\n",
        "        height / 2,\n",
        "        f'{int(height)}',\n",
        "        ha='center', va='center',\n",
        "        color='white', fontsize=12\n",
        "    )\n",
        "plt.tight_layout()\n",
        "plt.show()"
      ]
    }
  ],
  "metadata": {
    "kernelspec": {
      "display_name": "Python 3 (ipykernel)",
      "language": "python",
      "name": "python3"
    },
    "language_info": {
      "codemirror_mode": {
        "name": "ipython",
        "version": 3
      },
      "file_extension": ".py",
      "mimetype": "text/x-python",
      "name": "python",
      "nbconvert_exporter": "python",
      "pygments_lexer": "ipython3",
      "version": "3.9.18"
    }
  },
  "nbformat": 4,
  "nbformat_minor": 5
}
